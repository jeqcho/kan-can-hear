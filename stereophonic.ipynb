{
 "cells": [
  {
   "cell_type": "markdown",
   "id": "491e4956-3d12-4175-9192-93878d482c54",
   "metadata": {},
   "source": [
    "## Pre-reqs:\n",
    "Run `pip install -r requirements.txt` in the command line first."
   ]
  },
  {
   "cell_type": "markdown",
   "id": "997405ad-5660-443d-8cf8-9f3236a84b9e",
   "metadata": {},
   "source": [
    "## Creating the dataset\n",
    "\n",
    "We will generate 1000 random observations of sounds. For each sound observation, we will randomly generate a direction and a distance, and then compute the signed time difference between the time that the sound arrives at the left ear and the right ear."
   ]
  },
  {
   "cell_type": "code",
   "execution_count": 109,
   "id": "a1709bf6-7e58-4491-aea0-b5306369902c",
   "metadata": {},
   "outputs": [],
   "source": [
    "import random\n",
    "import math\n",
    "\n",
    "random.seed(42)\n",
    "\n",
    "class SoundMaker:\n",
    "    def __init__(self, head_radius, speed_of_sound=300, min_distance=5, max_distance=500):\n",
    "        self.head_radius = head_radius\n",
    "        self.speed_of_sound = speed_of_sound\n",
    "        self.min_distance = min_distance\n",
    "        self.max_distance = max_distance\n",
    "\n",
    "    def generate_random_coordinates(self):\n",
    "        # the randomness is uniform over direction and distance\n",
    "        angle = random.uniform(0, 2 * math.pi)\n",
    "        distance = random.uniform(self.min_distance, self.max_distance)\n",
    "        y = distance * math.sin(angle)\n",
    "        x = math.sqrt(distance**2 - y**2) * (-1)**(math.pi/2 < angle < 3/2 *math.pi)\n",
    "        return (x, y)\n",
    "\n",
    "    def make_sound_from_coordinates(self, x, y):\n",
    "        distance = math.sqrt(x**2 + y**2)\n",
    "        distance_left = math.sqrt(y**2+(x-self.head_radius)**2)\n",
    "        distance_right = math.sqrt(y**2+(x+self.head_radius)**2)\n",
    "        dt = (distance_left - distance_right)/self.speed_of_sound\n",
    "        angle = math.atan2(y, x)\n",
    "        if angle < 0:\n",
    "            # shift range from (-pi, pi) to (0, 2 pi) since ReLU is positive\n",
    "            angle += 2*math.pi\n",
    "        return dt, distance, angle\n",
    "\n",
    "    def make_sound(self):\n",
    "        x, y = self.generate_random_coordinates()\n",
    "        return self.make_sound_from_coordinates(x, y)\n",
    "\n",
    "soundMaker = SoundMaker(0.1)"
   ]
  },
  {
   "cell_type": "markdown",
   "id": "179483cd-10f6-462d-92e7-fbbb01a1a0da",
   "metadata": {},
   "source": [
    "## Baseline using MLP\n",
    "Let's first train a classical MLP and see how it performs. First we build a MLP."
   ]
  },
  {
   "cell_type": "code",
   "execution_count": 110,
   "id": "beecccb0-33dc-4042-95aa-3269581def7f",
   "metadata": {},
   "outputs": [
    {
     "name": "stdout",
     "output_type": "stream",
     "text": [
      "MLP(\n",
      "  (layers): ModuleList(\n",
      "    (0): Linear(in_features=1, out_features=5, bias=True)\n",
      "    (1): Linear(in_features=5, out_features=5, bias=True)\n",
      "    (2): Linear(in_features=5, out_features=1, bias=True)\n",
      "  )\n",
      ")\n"
     ]
    }
   ],
   "source": [
    "import torch.nn as nn\n",
    "import torch.nn.functional as F\n",
    "\n",
    "class MLP(nn.Module):\n",
    "    def __init__(self, input_size, hidden_sizes, output_size):\n",
    "        super(MLP, self).__init__()\n",
    "        self.layers = nn.ModuleList()\n",
    "        \n",
    "        # Create input layer\n",
    "        self.layers.append(nn.Linear(input_size, hidden_sizes[0]))\n",
    "        \n",
    "        # Create hidden layers\n",
    "        for i in range(1, len(hidden_sizes)):\n",
    "            self.layers.append(nn.Linear(hidden_sizes[i-1], hidden_sizes[i]))\n",
    "        \n",
    "        # Create output layer\n",
    "        self.layers.append(nn.Linear(hidden_sizes[-1], output_size))\n",
    "        \n",
    "        # Initialize weights\n",
    "        for layer in self.layers:\n",
    "            nn.init.normal_(layer.weight, mean=0, std=0.01)\n",
    "            nn.init.normal_(layer.bias, mean=0, std=0.01)\n",
    "\n",
    "    def forward(self, x):\n",
    "        for layer in self.layers[:-1]:\n",
    "            x = F.leaky_relu(layer(x))\n",
    "        x = self.layers[-1](x)\n",
    "        return x\n",
    "\n",
    "# Example usage\n",
    "input_size = 1\n",
    "hidden_sizes = [5, 5]\n",
    "output_size = 1\n",
    "\n",
    "mlp = MLP(input_size, hidden_sizes, output_size)\n",
    "\n",
    "# Print the model architecture\n",
    "print(mlp)"
   ]
  },
  {
   "cell_type": "markdown",
   "id": "811559d4-8ea2-4a41-81d4-be7c189fa4e6",
   "metadata": {},
   "source": [
    "We then proceed to train it. Feel free to skip this part until we get to the results.\n",
    "\n",
    "We begin with wrapping our dataset and feed it into a dataloader"
   ]
  },
  {
   "cell_type": "code",
   "execution_count": 111,
   "id": "c0d1ec92-b292-4d6a-ab5b-88a06e016409",
   "metadata": {},
   "outputs": [],
   "source": [
    "from torch.utils.data import Dataset\n",
    "\n",
    "# wrapper for our dataset\n",
    "class CustomDataset(Dataset):\n",
    "    def __init__(self, train=True):\n",
    "        if train:\n",
    "            self.dataset_length = 500\n",
    "        else:\n",
    "            self.dataset_length = 500\n",
    "\n",
    "    def __len__(self):\n",
    "        # return len(self.inputs)\n",
    "        # since we generate data on the fly, we 'say' that our dataset has a length of 500\n",
    "        return self.dataset_length\n",
    "\n",
    "    def __getitem__(self, idx):\n",
    "        dt, distance, angle = soundMaker.make_sound()\n",
    "        # The inputs are the time difference (dt) and the outputs are the direction (measured from the positive x-axis)\n",
    "        inputs = torch.tensor([dt], dtype=torch.float32)\n",
    "        targets = torch.tensor([angle], dtype=torch.float32)\n",
    "        return inputs, targets\n",
    "\n",
    "train_dataset = CustomDataset(train=True)\n",
    "test_dataset = CustomDataset(train=False)"
   ]
  },
  {
   "cell_type": "code",
   "execution_count": 112,
   "id": "c5d92b3f-3ae1-41d4-8d4f-0dff7d6697ca",
   "metadata": {},
   "outputs": [],
   "source": [
    "from torch.utils.data import DataLoader\n",
    "\n",
    "# feed into dataloader\n",
    "train_loader = DataLoader(train_dataset, batch_size=8, shuffle=True)\n",
    "test_loader = DataLoader(test_dataset, batch_size=8, shuffle=False)"
   ]
  },
  {
   "cell_type": "markdown",
   "id": "a7fb5694-608e-4bb4-baa7-78b6a383d6ab",
   "metadata": {},
   "source": [
    "Now we define the training routine"
   ]
  },
  {
   "cell_type": "code",
   "execution_count": 120,
   "id": "5c397c87-2cb5-4758-95f6-37fb90f2a979",
   "metadata": {},
   "outputs": [],
   "source": [
    "import torch\n",
    "import torch.optim as optim\n",
    "from tqdm import tqdm\n",
    "import matplotlib.pyplot as plt\n",
    "\n",
    "device = torch.device(\"cuda\" if torch.cuda.is_available() else \"cpu\")\n",
    "\n",
    "generated_angles = []\n",
    "\n",
    "def train(model, title=\"MLP\", epochs=20, loss_fn=nn.MSELoss()):\n",
    "    optimizer = optim.SGD(mlp.parameters(), lr=1e-2, weight_decay=1e-3)\n",
    "    # optimizer = optim.AdamW(model.parameters(), lr=1e-3, weight_decay=1e-4)\n",
    "    # Define learning rate scheduler\n",
    "    scheduler = optim.lr_scheduler.ExponentialLR(optimizer, gamma=0.8)\n",
    "    train_loss_all = []\n",
    "    val_loss_all = []\n",
    "    losses = []\n",
    "    for epoch in range(epochs):\n",
    "        # Train\n",
    "        train_loss = 0\n",
    "        train_num = 0\n",
    "        model.train()\n",
    "        with tqdm(train_loader) as pbar:\n",
    "            running_loss = 0.0\n",
    "            for input, target in pbar:\n",
    "                input = input.view(-1, 1).to(device)\n",
    "                optimizer.zero_grad()\n",
    "                output = model(input)\n",
    "                loss = loss_fn(output, target.to(device))\n",
    "                generated_angles.append(target)\n",
    "                optimizer.zero_grad()\n",
    "                loss.backward()\n",
    "                optimizer.step()\n",
    "                train_loss += loss.item()*input.size(0)\n",
    "                train_num += input.size(0)\n",
    "                pbar.set_postfix(lr=optimizer.param_groups[0]['lr'])\n",
    "        print('Epoch %d, Train loss: %.3f' % (epoch + 1, train_loss/train_num))\n",
    "        train_loss_all.append(train_loss/train_num)\n",
    "        pbar.set_postfix(loss=train_loss/train_num)\n",
    "    \n",
    "        # Validation\n",
    "        mlp.eval()\n",
    "        val_loss = 0\n",
    "        val_accuracy = 0\n",
    "        val_num = 0\n",
    "        with torch.no_grad():\n",
    "            for input, target in test_loader:\n",
    "                input = input.view(-1, 1).to(device)\n",
    "                output = model(input)\n",
    "                val_loss += loss_fn(output, target.to(device)).item()*input.size(0)\n",
    "                val_num += input.size(0)\n",
    "        val_loss_all.append(val_loss/val_num)\n",
    "        # val_accuracy /= len(valloader)\n",
    "    \n",
    "        # Update learning rate\n",
    "        # scheduler.step()\n",
    "    \n",
    "        print(\n",
    "            f\"Epoch {epoch + 1}, Val Loss: {val_loss/val_num}\"\n",
    "        )\n",
    "    # Plot the loss values against the number of epochs\n",
    "    fig, ax = plt.subplots()\n",
    "    ax.plot(range(1, epoch + 2), train_loss_all, label='Train Loss')\n",
    "    ax.plot(range(1, epoch + 2), val_loss_all, label='Val Loss')\n",
    "    ax.set_title(f'Loss Curves {title}')\n",
    "    ax.set_xlabel('Epochs')\n",
    "    ax.set_ylabel('Loss')\n",
    "    ax.legend()\n",
    "    plt.show()"
   ]
  },
  {
   "cell_type": "markdown",
   "id": "45cddaaf-bc05-454f-97dd-f76b384cd270",
   "metadata": {},
   "source": [
    "Finally, let's train it"
   ]
  },
  {
   "cell_type": "code",
   "execution_count": 114,
   "id": "6c229046-267c-48f8-8287-6d3f25a2c13f",
   "metadata": {},
   "outputs": [
    {
     "name": "stderr",
     "output_type": "stream",
     "text": [
      "100%|█████████████████████████████████| 63/63 [00:00<00:00, 112.58it/s, lr=0.01]\n"
     ]
    },
    {
     "name": "stdout",
     "output_type": "stream",
     "text": [
      "Epoch 1, Train loss: 7.147\n",
      "Epoch 1, Val Loss: 3.755388666152954\n"
     ]
    },
    {
     "name": "stderr",
     "output_type": "stream",
     "text": [
      "100%|█████████████████████████████████| 63/63 [00:00<00:00, 112.20it/s, lr=0.01]\n"
     ]
    },
    {
     "name": "stdout",
     "output_type": "stream",
     "text": [
      "Epoch 2, Train loss: 3.622\n",
      "Epoch 2, Val Loss: 3.121619094848633\n"
     ]
    },
    {
     "name": "stderr",
     "output_type": "stream",
     "text": [
      "100%|█████████████████████████████████| 63/63 [00:00<00:00, 159.09it/s, lr=0.01]\n"
     ]
    },
    {
     "name": "stdout",
     "output_type": "stream",
     "text": [
      "Epoch 3, Train loss: 3.104\n",
      "Epoch 3, Val Loss: 3.4467387886047365\n"
     ]
    },
    {
     "name": "stderr",
     "output_type": "stream",
     "text": [
      "100%|█████████████████████████████████| 63/63 [00:00<00:00, 104.00it/s, lr=0.01]\n"
     ]
    },
    {
     "name": "stdout",
     "output_type": "stream",
     "text": [
      "Epoch 4, Train loss: 3.328\n",
      "Epoch 4, Val Loss: 3.0911970500946047\n"
     ]
    },
    {
     "name": "stderr",
     "output_type": "stream",
     "text": [
      "100%|█████████████████████████████████| 63/63 [00:00<00:00, 139.82it/s, lr=0.01]\n"
     ]
    },
    {
     "name": "stdout",
     "output_type": "stream",
     "text": [
      "Epoch 5, Train loss: 3.446\n",
      "Epoch 5, Val Loss: 3.1024200534820556\n"
     ]
    },
    {
     "name": "stderr",
     "output_type": "stream",
     "text": [
      "100%|█████████████████████████████████| 63/63 [00:00<00:00, 134.90it/s, lr=0.01]\n"
     ]
    },
    {
     "name": "stdout",
     "output_type": "stream",
     "text": [
      "Epoch 6, Train loss: 3.369\n",
      "Epoch 6, Val Loss: 3.156308819770813\n"
     ]
    },
    {
     "name": "stderr",
     "output_type": "stream",
     "text": [
      "100%|█████████████████████████████████| 63/63 [00:00<00:00, 119.51it/s, lr=0.01]\n"
     ]
    },
    {
     "name": "stdout",
     "output_type": "stream",
     "text": [
      "Epoch 7, Train loss: 3.409\n",
      "Epoch 7, Val Loss: 3.28905948638916\n"
     ]
    },
    {
     "name": "stderr",
     "output_type": "stream",
     "text": [
      "100%|█████████████████████████████████| 63/63 [00:00<00:00, 129.70it/s, lr=0.01]\n"
     ]
    },
    {
     "name": "stdout",
     "output_type": "stream",
     "text": [
      "Epoch 8, Train loss: 3.546\n",
      "Epoch 8, Val Loss: 3.3935077753067016\n"
     ]
    },
    {
     "name": "stderr",
     "output_type": "stream",
     "text": [
      "100%|█████████████████████████████████| 63/63 [00:00<00:00, 125.38it/s, lr=0.01]\n"
     ]
    },
    {
     "name": "stdout",
     "output_type": "stream",
     "text": [
      "Epoch 9, Train loss: 3.448\n",
      "Epoch 9, Val Loss: 3.43611171913147\n"
     ]
    },
    {
     "name": "stderr",
     "output_type": "stream",
     "text": [
      "100%|█████████████████████████████████| 63/63 [00:00<00:00, 117.60it/s, lr=0.01]\n"
     ]
    },
    {
     "name": "stdout",
     "output_type": "stream",
     "text": [
      "Epoch 10, Train loss: 3.259\n",
      "Epoch 10, Val Loss: 3.248594068527222\n"
     ]
    },
    {
     "name": "stderr",
     "output_type": "stream",
     "text": [
      "100%|█████████████████████████████████| 63/63 [00:00<00:00, 103.91it/s, lr=0.01]\n"
     ]
    },
    {
     "name": "stdout",
     "output_type": "stream",
     "text": [
      "Epoch 11, Train loss: 3.297\n",
      "Epoch 11, Val Loss: 3.2283342361450194\n"
     ]
    },
    {
     "name": "stderr",
     "output_type": "stream",
     "text": [
      "100%|█████████████████████████████████| 63/63 [00:00<00:00, 131.81it/s, lr=0.01]\n"
     ]
    },
    {
     "name": "stdout",
     "output_type": "stream",
     "text": [
      "Epoch 12, Train loss: 3.582\n",
      "Epoch 12, Val Loss: 3.333595199584961\n"
     ]
    },
    {
     "name": "stderr",
     "output_type": "stream",
     "text": [
      "100%|█████████████████████████████████| 63/63 [00:00<00:00, 110.45it/s, lr=0.01]\n"
     ]
    },
    {
     "name": "stdout",
     "output_type": "stream",
     "text": [
      "Epoch 13, Train loss: 3.210\n",
      "Epoch 13, Val Loss: 2.9501694288253786\n"
     ]
    },
    {
     "name": "stderr",
     "output_type": "stream",
     "text": [
      "100%|█████████████████████████████████| 63/63 [00:00<00:00, 112.97it/s, lr=0.01]\n"
     ]
    },
    {
     "name": "stdout",
     "output_type": "stream",
     "text": [
      "Epoch 14, Train loss: 3.213\n",
      "Epoch 14, Val Loss: 3.3117910766601564\n"
     ]
    },
    {
     "name": "stderr",
     "output_type": "stream",
     "text": [
      "100%|█████████████████████████████████| 63/63 [00:00<00:00, 121.64it/s, lr=0.01]\n"
     ]
    },
    {
     "name": "stdout",
     "output_type": "stream",
     "text": [
      "Epoch 15, Train loss: 3.303\n",
      "Epoch 15, Val Loss: 3.301529504776001\n"
     ]
    },
    {
     "name": "stderr",
     "output_type": "stream",
     "text": [
      "100%|█████████████████████████████████| 63/63 [00:00<00:00, 166.68it/s, lr=0.01]\n"
     ]
    },
    {
     "name": "stdout",
     "output_type": "stream",
     "text": [
      "Epoch 16, Train loss: 3.350\n",
      "Epoch 16, Val Loss: 3.2685412664413453\n"
     ]
    },
    {
     "name": "stderr",
     "output_type": "stream",
     "text": [
      "100%|█████████████████████████████████| 63/63 [00:00<00:00, 139.61it/s, lr=0.01]\n"
     ]
    },
    {
     "name": "stdout",
     "output_type": "stream",
     "text": [
      "Epoch 17, Train loss: 3.561\n",
      "Epoch 17, Val Loss: 3.0193252010345457\n"
     ]
    },
    {
     "name": "stderr",
     "output_type": "stream",
     "text": [
      "100%|█████████████████████████████████| 63/63 [00:00<00:00, 136.76it/s, lr=0.01]\n"
     ]
    },
    {
     "name": "stdout",
     "output_type": "stream",
     "text": [
      "Epoch 18, Train loss: 3.182\n",
      "Epoch 18, Val Loss: 3.29041606092453\n"
     ]
    },
    {
     "name": "stderr",
     "output_type": "stream",
     "text": [
      "100%|█████████████████████████████████| 63/63 [00:00<00:00, 132.36it/s, lr=0.01]\n"
     ]
    },
    {
     "name": "stdout",
     "output_type": "stream",
     "text": [
      "Epoch 19, Train loss: 3.100\n",
      "Epoch 19, Val Loss: 3.430278745651245\n"
     ]
    },
    {
     "name": "stderr",
     "output_type": "stream",
     "text": [
      "100%|█████████████████████████████████| 63/63 [00:00<00:00, 132.29it/s, lr=0.01]\n"
     ]
    },
    {
     "name": "stdout",
     "output_type": "stream",
     "text": [
      "Epoch 20, Train loss: 3.561\n",
      "Epoch 20, Val Loss: 3.313218988418579\n"
     ]
    },
    {
     "data": {
      "image/png": "[encoded data removed]",
      "text/plain": [
       "<Figure size 640x480 with 1 Axes>"
      ]
     },
     "metadata": {},
     "output_type": "display_data"
    }
   ],
   "source": [
    "train(mlp, \"MLP\")"
   ]
  },
  {
   "cell_type": "code",
   "execution_count": 115,
   "id": "65384c84-dc8b-4a5e-90ca-96f43dbc9ed3",
   "metadata": {},
   "outputs": [
    {
     "data": {
      "image/png": "[encoded data removed]",
      "text/plain": [
       "<Figure size 600x600 with 1 Axes>"
      ]
     },
     "metadata": {},
     "output_type": "display_data"
    }
   ],
   "source": [
    "import matplotlib.pyplot as plt\n",
    "import numpy as np\n",
    "import matplotlib.animation as animation\n",
    "\n",
    "# Define the size of the grid\n",
    "grid_size = 600\n",
    "\n",
    "# Initial position of the agent (center of the grid)\n",
    "agent_x, agent_y = 0, 0\n",
    "\n",
    "# Define the respond function (black box)\n",
    "def respond(x, y):\n",
    "    # For the sake of example, let's return a fixed direction\n",
    "    # In a real scenario, this would be replaced by the actual black box function logic\n",
    "    # return 45  # Returning 45 degrees as the direction\n",
    "    dt, distance, azimuth = soundMaker.make_sound_from_coordinates(x, y)\n",
    "    with torch.no_grad():\n",
    "        input = torch.tensor([[dt]])\n",
    "        output = mlp(input)\n",
    "    return output[0].item()\n",
    "\n",
    "# Function to draw the grid, agent, and user input\n",
    "def draw_grid(agent_x, agent_y, user_x, user_y, ax):\n",
    "    ax.clear()\n",
    "    ax.set_xlim(-grid_size // 2, grid_size // 2)\n",
    "    ax.set_ylim(-grid_size // 2, grid_size // 2)\n",
    "    \n",
    "    # Draw grid lines\n",
    "    step = 50  # Step size for the grid lines\n",
    "    for i in range(-grid_size // 2, grid_size // 2 + step, step):\n",
    "        ax.axhline(i, color='gray', linewidth=0.5)\n",
    "        ax.axvline(i, color='gray', linewidth=0.5)\n",
    "    \n",
    "    # Draw the agent\n",
    "    ax.plot(agent_x, agent_y, 'bo', markersize=10)  # Blue circle for the agent\n",
    "    \n",
    "    # Draw the user input point\n",
    "    ax.plot(user_x, user_y, 'gs', markersize=10)  # Green square for the user input\n",
    "\n",
    "# Function to draw the laser direction\n",
    "def draw_laser(ax, x, y, angle):\n",
    "    # Calculate the end point of the laser\n",
    "    laser_length = grid_size  # Set the laser length to be the size of the grid\n",
    "    end_x = x + laser_length * np.cos(angle)\n",
    "    end_y = y + laser_length * np.sin(angle)\n",
    "    \n",
    "    # Draw the laser\n",
    "    ax.plot([x, end_x], [y, end_y], 'r-')\n",
    "\n",
    "# Function to animate the agent shooting the laser at the given direction and user input\n",
    "def animate(i):\n",
    "    user_x, user_y = user_inputs[i]\n",
    "    angle = respond(user_x, user_y)\n",
    "    draw_grid(agent_x, agent_y, user_x, user_y, ax)\n",
    "    draw_laser(ax, agent_x, agent_y, angle)\n",
    "\n",
    "# List of user inputs\n",
    "user_inputs = [(100, 200), (-100, -200), (150, 50), (-150, -50), (300, 0), (-300, 0)]\n",
    "\n",
    "# Create the figure and axis\n",
    "fig, ax = plt.subplots(figsize=(6, 6))\n",
    "\n",
    "# Create the animation\n",
    "ani = animation.FuncAnimation(fig, animate, frames=len(user_inputs), interval=500, repeat=False)\n",
    "\n",
    "# Save the animation as a video file (optional)\n",
    "ani.save('agent_laser_animation.mp4', writer='ffmpeg')\n",
    "\n",
    "# Display the animation\n",
    "plt.show()\n"
   ]
  },
  {
   "cell_type": "code",
   "execution_count": 119,
   "id": "18b46cf5-307d-4e1c-adcb-fc416d2aac9c",
   "metadata": {},
   "outputs": [
    {
     "name": "stdout",
     "output_type": "stream",
     "text": [
      "0.00020943643344821793 3.2842633724212646\n"
     ]
    }
   ],
   "source": [
    "dt, distance, azimuth = soundMaker.make_sound()\n",
    "with torch.no_grad():\n",
    "    input = torch.tensor([[dt]])\n",
    "    output = mlp(input)\n",
    "print(dt, output[0].item())"
   ]
  },
  {
   "cell_type": "code",
   "execution_count": 141,
   "id": "d7b7f5e9-599a-4456-92db-7cb84eb324c4",
   "metadata": {},
   "outputs": [],
   "source": [
    "class AngleLoss(nn.Module):\n",
    "    def __init__(self):\n",
    "        super(AngleLoss, self).__init__()\n",
    "\n",
    "    def forward(self, input, target):\n",
    "        # Calculate the squared difference\n",
    "        diff = input - target\n",
    "        scaled = (diff/math.pi) ** 2 * math.pi/2\n",
    "        loss = torch.sin(scaled)\n",
    "        return loss.mean()"
   ]
  },
  {
   "cell_type": "code",
   "execution_count": 142,
   "id": "8fe1b80c-8a85-4b02-90e5-5e2e06fb4ae7",
   "metadata": {},
   "outputs": [],
   "source": [
    "# Example usage\n",
    "input_size = 1\n",
    "hidden_sizes = [5, 5]\n",
    "output_size = 1\n",
    "\n",
    "mlp2 = MLP(input_size, hidden_sizes, output_size)"
   ]
  },
  {
   "cell_type": "code",
   "execution_count": 143,
   "id": "427f6ada-6ae0-418d-ada9-25621c786364",
   "metadata": {},
   "outputs": [
    {
     "name": "stderr",
     "output_type": "stream",
     "text": [
      "100%|█████████████████████████████████| 63/63 [00:00<00:00, 125.45it/s, lr=0.01]\n"
     ]
    },
    {
     "name": "stdout",
     "output_type": "stream",
     "text": [
      "Epoch 1, Train loss: 0.185\n",
      "Epoch 1, Val Loss: 12.495445587158203\n"
     ]
    },
    {
     "name": "stderr",
     "output_type": "stream",
     "text": [
      "100%|█████████████████████████████████| 63/63 [00:00<00:00, 132.30it/s, lr=0.01]\n"
     ]
    },
    {
     "name": "stdout",
     "output_type": "stream",
     "text": [
      "Epoch 2, Train loss: 0.145\n",
      "Epoch 2, Val Loss: 13.368010482788087\n"
     ]
    },
    {
     "name": "stderr",
     "output_type": "stream",
     "text": [
      "100%|█████████████████████████████████| 63/63 [00:00<00:00, 147.10it/s, lr=0.01]\n"
     ]
    },
    {
     "name": "stdout",
     "output_type": "stream",
     "text": [
      "Epoch 3, Train loss: 0.168\n",
      "Epoch 3, Val Loss: 12.533994178771973\n"
     ]
    },
    {
     "name": "stderr",
     "output_type": "stream",
     "text": [
      "100%|██████████████████████████████████| 63/63 [00:00<00:00, 80.35it/s, lr=0.01]\n"
     ]
    },
    {
     "name": "stdout",
     "output_type": "stream",
     "text": [
      "Epoch 4, Train loss: 0.248\n",
      "Epoch 4, Val Loss: 13.01057472229004\n"
     ]
    },
    {
     "name": "stderr",
     "output_type": "stream",
     "text": [
      "100%|█████████████████████████████████| 63/63 [00:00<00:00, 141.36it/s, lr=0.01]\n"
     ]
    },
    {
     "name": "stdout",
     "output_type": "stream",
     "text": [
      "Epoch 5, Train loss: 0.190\n",
      "Epoch 5, Val Loss: 13.129698360443115\n"
     ]
    },
    {
     "name": "stderr",
     "output_type": "stream",
     "text": [
      "100%|█████████████████████████████████| 63/63 [00:00<00:00, 154.52it/s, lr=0.01]\n"
     ]
    },
    {
     "name": "stdout",
     "output_type": "stream",
     "text": [
      "Epoch 6, Train loss: 0.171\n",
      "Epoch 6, Val Loss: 12.196413833618164\n"
     ]
    },
    {
     "name": "stderr",
     "output_type": "stream",
     "text": [
      "100%|█████████████████████████████████| 63/63 [00:00<00:00, 116.98it/s, lr=0.01]\n"
     ]
    },
    {
     "name": "stdout",
     "output_type": "stream",
     "text": [
      "Epoch 7, Train loss: 0.184\n",
      "Epoch 7, Val Loss: 12.084120140075683\n"
     ]
    },
    {
     "name": "stderr",
     "output_type": "stream",
     "text": [
      "100%|█████████████████████████████████| 63/63 [00:00<00:00, 157.47it/s, lr=0.01]\n"
     ]
    },
    {
     "name": "stdout",
     "output_type": "stream",
     "text": [
      "Epoch 8, Train loss: 0.153\n",
      "Epoch 8, Val Loss: 12.72158253479004\n"
     ]
    },
    {
     "name": "stderr",
     "output_type": "stream",
     "text": [
      "100%|█████████████████████████████████| 63/63 [00:00<00:00, 160.74it/s, lr=0.01]\n"
     ]
    },
    {
     "name": "stdout",
     "output_type": "stream",
     "text": [
      "Epoch 9, Train loss: 0.212\n",
      "Epoch 9, Val Loss: 13.54610945892334\n"
     ]
    },
    {
     "name": "stderr",
     "output_type": "stream",
     "text": [
      "100%|█████████████████████████████████| 63/63 [00:00<00:00, 155.95it/s, lr=0.01]\n"
     ]
    },
    {
     "name": "stdout",
     "output_type": "stream",
     "text": [
      "Epoch 10, Train loss: 0.166\n",
      "Epoch 10, Val Loss: 13.367094856262208\n"
     ]
    },
    {
     "name": "stderr",
     "output_type": "stream",
     "text": [
      "100%|█████████████████████████████████| 63/63 [00:00<00:00, 158.12it/s, lr=0.01]\n"
     ]
    },
    {
     "name": "stdout",
     "output_type": "stream",
     "text": [
      "Epoch 11, Train loss: 0.176\n",
      "Epoch 11, Val Loss: 13.31311890411377\n"
     ]
    },
    {
     "name": "stderr",
     "output_type": "stream",
     "text": [
      "100%|██████████████████████████████████| 63/63 [00:00<00:00, 99.21it/s, lr=0.01]\n"
     ]
    },
    {
     "name": "stdout",
     "output_type": "stream",
     "text": [
      "Epoch 12, Train loss: 0.182\n",
      "Epoch 12, Val Loss: 13.383533351898194\n"
     ]
    },
    {
     "name": "stderr",
     "output_type": "stream",
     "text": [
      "100%|█████████████████████████████████| 63/63 [00:00<00:00, 147.73it/s, lr=0.01]\n"
     ]
    },
    {
     "name": "stdout",
     "output_type": "stream",
     "text": [
      "Epoch 13, Train loss: 0.181\n",
      "Epoch 13, Val Loss: 13.67586222076416\n"
     ]
    },
    {
     "name": "stderr",
     "output_type": "stream",
     "text": [
      "100%|█████████████████████████████████| 63/63 [00:00<00:00, 137.89it/s, lr=0.01]\n"
     ]
    },
    {
     "name": "stdout",
     "output_type": "stream",
     "text": [
      "Epoch 14, Train loss: 0.186\n",
      "Epoch 14, Val Loss: 12.81517133140564\n"
     ]
    },
    {
     "name": "stderr",
     "output_type": "stream",
     "text": [
      "100%|█████████████████████████████████| 63/63 [00:00<00:00, 150.82it/s, lr=0.01]\n"
     ]
    },
    {
     "name": "stdout",
     "output_type": "stream",
     "text": [
      "Epoch 15, Train loss: 0.205\n",
      "Epoch 15, Val Loss: 13.020503067016602\n"
     ]
    },
    {
     "name": "stderr",
     "output_type": "stream",
     "text": [
      "100%|█████████████████████████████████| 63/63 [00:00<00:00, 131.21it/s, lr=0.01]\n"
     ]
    },
    {
     "name": "stdout",
     "output_type": "stream",
     "text": [
      "Epoch 16, Train loss: 0.145\n",
      "Epoch 16, Val Loss: 12.971619483947753\n"
     ]
    },
    {
     "name": "stderr",
     "output_type": "stream",
     "text": [
      "100%|█████████████████████████████████| 63/63 [00:00<00:00, 112.98it/s, lr=0.01]\n"
     ]
    },
    {
     "name": "stdout",
     "output_type": "stream",
     "text": [
      "Epoch 17, Train loss: 0.216\n",
      "Epoch 17, Val Loss: 13.125394332885742\n"
     ]
    },
    {
     "name": "stderr",
     "output_type": "stream",
     "text": [
      "100%|█████████████████████████████████| 63/63 [00:00<00:00, 163.56it/s, lr=0.01]\n"
     ]
    },
    {
     "name": "stdout",
     "output_type": "stream",
     "text": [
      "Epoch 18, Train loss: 0.140\n",
      "Epoch 18, Val Loss: 12.959958572387695\n"
     ]
    },
    {
     "name": "stderr",
     "output_type": "stream",
     "text": [
      "100%|█████████████████████████████████| 63/63 [00:00<00:00, 151.68it/s, lr=0.01]\n"
     ]
    },
    {
     "name": "stdout",
     "output_type": "stream",
     "text": [
      "Epoch 19, Train loss: 0.162\n",
      "Epoch 19, Val Loss: 12.611669563293457\n"
     ]
    },
    {
     "name": "stderr",
     "output_type": "stream",
     "text": [
      "100%|█████████████████████████████████| 63/63 [00:00<00:00, 119.78it/s, lr=0.01]\n"
     ]
    },
    {
     "name": "stdout",
     "output_type": "stream",
     "text": [
      "Epoch 20, Train loss: 0.154\n",
      "Epoch 20, Val Loss: 12.51593397140503\n"
     ]
    },
    {
     "data": {
      "image/png": "[encoded data removed]",
      "text/plain": [
       "<Figure size 640x480 with 1 Axes>"
      ]
     },
     "metadata": {},
     "output_type": "display_data"
    }
   ],
   "source": [
    "train(mlp2, \"MLP with modular loss\", loss_fn=AngleLoss())"
   ]
  },
  {
   "cell_type": "code",
   "execution_count": 147,
   "id": "573b002e-1ab1-4586-96f0-0d556a14b655",
   "metadata": {},
   "outputs": [
    {
     "data": {
      "image/png": "[encoded data removed]",
      "text/plain": [
       "<Figure size 600x600 with 1 Axes>"
      ]
     },
     "metadata": {},
     "output_type": "display_data"
    }
   ],
   "source": [
    "import matplotlib.pyplot as plt\n",
    "import numpy as np\n",
    "import matplotlib.animation as animation\n",
    "\n",
    "# Define the size of the grid\n",
    "grid_size = 600\n",
    "\n",
    "# Initial position of the agent (center of the grid)\n",
    "agent_x, agent_y = 0, 0\n",
    "\n",
    "# Define the respond function (black box)\n",
    "def respond(x, y):\n",
    "    # For the sake of example, let's return a fixed direction\n",
    "    # In a real scenario, this would be replaced by the actual black box function logic\n",
    "    dt, distance, azimuth = soundMaker.make_sound_from_coordinates(x, y)\n",
    "    with torch.no_grad():\n",
    "        input = torch.tensor([[dt]])\n",
    "        output = mlp2(input)\n",
    "    return output[0].item()\n",
    "\n",
    "# Function to draw the grid, agent, and user input\n",
    "def draw_grid(agent_x, agent_y, user_x, user_y, ax):\n",
    "    ax.clear()\n",
    "    ax.set_xlim(-grid_size // 2, grid_size // 2)\n",
    "    ax.set_ylim(-grid_size // 2, grid_size // 2)\n",
    "    \n",
    "    # Draw grid lines\n",
    "    step = 50  # Step size for the grid lines\n",
    "    for i in range(-grid_size // 2, grid_size // 2 + step, step):\n",
    "        ax.axhline(i, color='gray', linewidth=0.5)\n",
    "        ax.axvline(i, color='gray', linewidth=0.5)\n",
    "    \n",
    "    # Draw the agent\n",
    "    ax.plot(agent_x, agent_y, 'bo', markersize=10)  # Blue circle for the agent\n",
    "    \n",
    "    # Draw the user input point\n",
    "    ax.plot(user_x, user_y, 'gs', markersize=10)  # Green square for the user input\n",
    "\n",
    "# Function to draw the laser direction\n",
    "def draw_laser(ax, x, y, angle):\n",
    "    # Calculate the end point of the laser\n",
    "    laser_length = grid_size  # Set the laser length to be the size of the grid\n",
    "    end_x = x + laser_length * np.cos(angle)\n",
    "    end_y = y + laser_length * np.sin(angle)\n",
    "    \n",
    "    # Draw the laser\n",
    "    ax.plot([x, end_x], [y, end_y], 'r-')\n",
    "\n",
    "# Function to animate the agent shooting the laser at the given direction and user input\n",
    "def animate(i):\n",
    "    user_x, user_y = user_inputs[i]\n",
    "    angle = respond(user_x, user_y)\n",
    "    draw_grid(agent_x, agent_y, user_x, user_y, ax)\n",
    "    draw_laser(ax, agent_x, agent_y, angle)\n",
    "\n",
    "# List of user inputs\n",
    "user_inputs = [(100, 200), (-100, -200), (150, 50), (-150, -50), (300, 0), (-300, 0)]\n",
    "\n",
    "# Create the figure and axis\n",
    "fig, ax = plt.subplots(figsize=(6, 6))\n",
    "\n",
    "# Create the animation\n",
    "ani = animation.FuncAnimation(fig, animate, frames=len(user_inputs), interval=500, repeat=False)\n",
    "\n",
    "# Save the animation as a video file (optional)\n",
    "ani.save('agent_laser_animation.mp4', writer='ffmpeg')\n",
    "\n",
    "# Display the animation\n",
    "plt.show()\n"
   ]
  },
  {
   "cell_type": "code",
   "execution_count": null,
   "id": "f526b4aa-d34c-4aaa-b789-6383489b61cc",
   "metadata": {},
   "outputs": [],
   "source": []
  },
  {
   "cell_type": "code",
   "execution_count": null,
   "id": "abb5f78c-df2f-4dff-82c4-21ce960a986b",
   "metadata": {},
   "outputs": [],
   "source": []
  }
 ],
 "metadata": {
  "kernelspec": {
   "display_name": "Python (kanenv3)",
   "language": "python",
   "name": "kanenv3"
  },
  "language_info": {
   "codemirror_mode": {
    "name": "ipython",
    "version": 3
   },
   "file_extension": ".py",
   "mimetype": "text/x-python",
   "name": "python",
   "nbconvert_exporter": "python",
   "pygments_lexer": "ipython3",
   "version": "3.11.4"
  }
 },
 "nbformat": 4,
 "nbformat_minor": 5
}
