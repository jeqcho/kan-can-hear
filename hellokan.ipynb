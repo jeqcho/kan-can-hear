{
 "cells": [
  {
   "cell_type": "code",
   "execution_count": 1,
   "id": "c65e047e-8971-4c50-8e27-ba8189f8bc3a",
   "metadata": {},
   "outputs": [
    {
     "name": "stdout",
     "output_type": "stream",
     "text": [
      "Directory already exists: ./model\n"
     ]
    }
   ],
   "source": [
    "from kan import *\n",
    "# create a KAN: 2D inputs, 1D output, and 5 hidden neurons. cubic spline (k=3), 5 grid intervals (grid=5).\n",
    "model = KAN(width=[2,5,1], grid=5, k=3, seed=0)"
   ]
  },
  {
   "cell_type": "code",
   "execution_count": 2,
   "id": "a0a0612d-bb3b-48cf-a3f3-9e1700088da0",
   "metadata": {},
   "outputs": [
    {
     "ename": "NameError",
     "evalue": "name 'create_dataset' is not defined",
     "output_type": "error",
     "traceback": [
      "\u001b[0;31m---------------------------------------------------------------------------\u001b[0m",
      "\u001b[0;31mNameError\u001b[0m                                 Traceback (most recent call last)",
      "Cell \u001b[0;32mIn[2], line 3\u001b[0m\n\u001b[1;32m      1\u001b[0m \u001b[38;5;66;03m# create dataset f(x,y) = exp(sin(pi*x)+y^2)\u001b[39;00m\n\u001b[1;32m      2\u001b[0m f \u001b[38;5;241m=\u001b[39m \u001b[38;5;28;01mlambda\u001b[39;00m x: torch\u001b[38;5;241m.\u001b[39mexp(torch\u001b[38;5;241m.\u001b[39msin(torch\u001b[38;5;241m.\u001b[39mpi\u001b[38;5;241m*\u001b[39mx[:,[\u001b[38;5;241m0\u001b[39m]]) \u001b[38;5;241m+\u001b[39m x[:,[\u001b[38;5;241m1\u001b[39m]]\u001b[38;5;241m*\u001b[39m\u001b[38;5;241m*\u001b[39m\u001b[38;5;241m2\u001b[39m)\n\u001b[0;32m----> 3\u001b[0m dataset \u001b[38;5;241m=\u001b[39m \u001b[43mcreate_dataset\u001b[49m(f, n_var\u001b[38;5;241m=\u001b[39m\u001b[38;5;241m2\u001b[39m)\n\u001b[1;32m      4\u001b[0m dataset[\u001b[38;5;124m'\u001b[39m\u001b[38;5;124mtrain_input\u001b[39m\u001b[38;5;124m'\u001b[39m]\u001b[38;5;241m.\u001b[39mshape, dataset[\u001b[38;5;124m'\u001b[39m\u001b[38;5;124mtrain_label\u001b[39m\u001b[38;5;124m'\u001b[39m]\u001b[38;5;241m.\u001b[39mshape\n",
      "\u001b[0;31mNameError\u001b[0m: name 'create_dataset' is not defined"
     ]
    }
   ],
   "source": [
    "# create dataset f(x,y) = exp(sin(pi*x)+y^2)\n",
    "f = lambda x: torch.exp(torch.sin(torch.pi*x[:,[0]]) + x[:,[1]]**2)\n",
    "dataset = create_dataset(f, n_var=2)\n",
    "dataset['train_input'].shape, dataset['train_label'].shape"
   ]
  },
  {
   "cell_type": "code",
   "execution_count": null,
   "id": "c8879f90-90df-41c6-8c5a-8a85f75997a1",
   "metadata": {},
   "outputs": [],
   "source": [
    "# plot KAN at initialization\n",
    "model(dataset['train_input']);\n",
    "model.plot(beta=100)"
   ]
  },
  {
   "cell_type": "code",
   "execution_count": null,
   "id": "edd3b2ac-ecf6-411a-ada4-257e0c6f4f31",
   "metadata": {},
   "outputs": [],
   "source": [
    "# train the model\n",
    "model.train(dataset, opt=\"LBFGS\", steps=20, lamb=0.01, lamb_entropy=10.);"
   ]
  },
  {
   "cell_type": "code",
   "execution_count": null,
   "id": "a7825d4b-0c1e-4029-a42c-bc800e866340",
   "metadata": {},
   "outputs": [],
   "source": [
    "model.plot()"
   ]
  },
  {
   "cell_type": "code",
   "execution_count": null,
   "id": "05da70be-092a-4b8f-8fd9-46426b224aec",
   "metadata": {},
   "outputs": [],
   "source": [
    "model.plot(beta=100)"
   ]
  },
  {
   "cell_type": "code",
   "execution_count": null,
   "id": "70e44acb-5578-4782-9699-bd3193296d12",
   "metadata": {},
   "outputs": [],
   "source": [
    "model.prune()\n",
    "model.plot(mask=True)"
   ]
  },
  {
   "cell_type": "code",
   "execution_count": null,
   "id": "f98c03fa-6e3f-403b-9450-604a54320195",
   "metadata": {},
   "outputs": [],
   "source": [
    "model = model.prune()\n",
    "model.plot()"
   ]
  },
  {
   "cell_type": "code",
   "execution_count": null,
   "id": "30442e48-89b2-4eb2-823e-9a82fe81350f",
   "metadata": {},
   "outputs": [],
   "source": [
    "model = model.prune()\n",
    "model"
   ]
  },
  {
   "cell_type": "code",
   "execution_count": null,
   "id": "f3330f2e-c68a-4bb8-a42c-5a0de6e80cf8",
   "metadata": {},
   "outputs": [],
   "source": [
    "model"
   ]
  },
  {
   "cell_type": "code",
   "execution_count": null,
   "id": "a256dfd4-c4af-46dd-a95a-37205786cab0",
   "metadata": {},
   "outputs": [],
   "source": [
    "model(dataset['train_input'])\n",
    "model.plot()"
   ]
  },
  {
   "cell_type": "code",
   "execution_count": null,
   "id": "2da3e501-9a08-4f20-8ff2-22ac78407348",
   "metadata": {},
   "outputs": [],
   "source": [
    "model.train(dataset, opt=\"LBFGS\", steps=50);"
   ]
  },
  {
   "cell_type": "code",
   "execution_count": null,
   "id": "cf899a79-8983-4491-a651-db08060a6e6c",
   "metadata": {},
   "outputs": [],
   "source": [
    "model.plot()"
   ]
  },
  {
   "cell_type": "code",
   "execution_count": null,
   "id": "83915d9c-3b0d-48df-90ca-651b96a2d432",
   "metadata": {},
   "outputs": [],
   "source": [
    "model.prune()\n",
    "model.plot(mask=True)"
   ]
  },
  {
   "cell_type": "code",
   "execution_count": null,
   "id": "fb72dc15-a46a-4374-8e52-062a17a9f2f8",
   "metadata": {},
   "outputs": [],
   "source": [
    "model.symbolic_formula()[0][0]"
   ]
  },
  {
   "cell_type": "code",
   "execution_count": null,
   "id": "ce96a536-501d-4f27-84b1-9181a4cada06",
   "metadata": {},
   "outputs": [],
   "source": [
    "model.symbolic_formula()"
   ]
  },
  {
   "cell_type": "code",
   "execution_count": null,
   "id": "d6bb83cd-1a9e-4274-97e3-14b48949e9d6",
   "metadata": {},
   "outputs": [],
   "source": [
    "lib = ['x','x^2','x^3','x^4','exp','log','sqrt','tanh','sin','abs']\n",
    "model.auto_symbolic(lib=lib)"
   ]
  },
  {
   "cell_type": "code",
   "execution_count": null,
   "id": "ff4b0467-2582-4e9c-b31a-99a799516742",
   "metadata": {},
   "outputs": [],
   "source": [
    "model.plot()"
   ]
  },
  {
   "cell_type": "code",
   "execution_count": null,
   "id": "195e7571-a037-417e-82d6-ec22e6b30bf0",
   "metadata": {},
   "outputs": [],
   "source": [
    "model.train(dataset, opt=\"LBFGS\", steps=50);"
   ]
  },
  {
   "cell_type": "code",
   "execution_count": null,
   "id": "ddcdb82a-84ed-4239-aaf4-d075b11ec763",
   "metadata": {},
   "outputs": [],
   "source": [
    "model.plot()"
   ]
  },
  {
   "cell_type": "code",
   "execution_count": null,
   "id": "12df3eba-23da-45e5-8dfa-0112b3f2f9e7",
   "metadata": {},
   "outputs": [],
   "source": [
    "model.prune()\n",
    "model.plot(mask=True)"
   ]
  },
  {
   "cell_type": "code",
   "execution_count": null,
   "id": "fbd94a32-79bc-4811-8807-75e16c4555cf",
   "metadata": {},
   "outputs": [],
   "source": [
    "model = model.prune()"
   ]
  },
  {
   "cell_type": "code",
   "execution_count": null,
   "id": "6459a584-c6c0-4d25-96db-f3a863a979f1",
   "metadata": {},
   "outputs": [],
   "source": [
    "model(dataset[\"train_input\"])\n",
    "model.plot()"
   ]
  },
  {
   "cell_type": "code",
   "execution_count": null,
   "id": "6918a93d-cb3a-4e9a-a3ae-e7d0e0278dab",
   "metadata": {},
   "outputs": [],
   "source": [
    "# train, prune, plot, repeat\n",
    "model.train(dataset, opt=\"LBFGS\", steps=50)\n",
    "model = model.prune()\n",
    "model(dataset[\"train_input\"])\n",
    "model.plot()"
   ]
  },
  {
   "cell_type": "code",
   "execution_count": null,
   "id": "0f5e451b-badc-49b2-a0a6-449a5f1c6424",
   "metadata": {},
   "outputs": [],
   "source": [
    "# train, prune, plot, repeat\n",
    "model.train(dataset, opt=\"LBFGS\", steps=50)\n",
    "model = model.prune()\n",
    "model(dataset[\"train_input\"])\n",
    "model.plot()"
   ]
  },
  {
   "cell_type": "code",
   "execution_count": null,
   "id": "40dc8767-8aef-436c-931e-44f900932468",
   "metadata": {},
   "outputs": [],
   "source": [
    "# train, prune, plot, repeat\n",
    "model.train(dataset, opt=\"LBFGS\", steps=50)\n",
    "model.plot()"
   ]
  },
  {
   "cell_type": "code",
   "execution_count": null,
   "id": "9feed4d8-a21d-471c-a8fc-50e8856e4c96",
   "metadata": {},
   "outputs": [],
   "source": [
    "model.symbolic_formula()[0][0]"
   ]
  },
  {
   "cell_type": "code",
   "execution_count": null,
   "id": "3f5db6e1-3d94-45cc-9b1c-9e10bd99d91f",
   "metadata": {},
   "outputs": [],
   "source": [
    "model2 = KAN(width=[2,5,1], grid=5, k=3, seed=0)\n",
    "model2(dataset['train_input'])\n",
    "model2.plot()"
   ]
  },
  {
   "cell_type": "code",
   "execution_count": null,
   "id": "53a624c9-fc1a-4ab4-90bf-582ccc6aec77",
   "metadata": {},
   "outputs": [],
   "source": [
    "model2.train(dataset, opt=\"LBFGS\", steps=20, lamb=0.01, lamb_entropy=10.);\n",
    "model2 = model2.prune()\n",
    "model2(dataset['train_input'])\n",
    "model2.plot()"
   ]
  },
  {
   "cell_type": "code",
   "execution_count": null,
   "id": "728a27eb-752b-4e17-bafa-2f127ade94b6",
   "metadata": {},
   "outputs": [],
   "source": [
    "model2.train(dataset, opt=\"LBFGS\", steps=20, lamb=0.01, lamb_entropy=10.);\n",
    "model2 = model2.prune()\n",
    "model2(dataset['train_input'])\n",
    "model2.plot()"
   ]
  },
  {
   "cell_type": "code",
   "execution_count": null,
   "id": "f860c744-4185-4d56-bf3e-07beae97cf2a",
   "metadata": {},
   "outputs": [],
   "source": [
    "model2.train(dataset, opt=\"LBFGS\", steps=20, lamb=0.01, lamb_entropy=10.);\n",
    "model2 = model2.prune()\n",
    "model2(dataset['train_input'])\n",
    "model2.plot()"
   ]
  },
  {
   "cell_type": "code",
   "execution_count": null,
   "id": "9258c2f9-41f1-436d-83cf-d0adde821d3a",
   "metadata": {},
   "outputs": [],
   "source": [
    "model2.auto_symbolic()\n",
    "model2.plot()"
   ]
  },
  {
   "cell_type": "code",
   "execution_count": null,
   "id": "aa218b20-0f84-4d4f-8d82-5e33d5280876",
   "metadata": {},
   "outputs": [],
   "source": [
    "model2.symbolic_formula()[0][0]"
   ]
  },
  {
   "cell_type": "code",
   "execution_count": null,
   "id": "c1b8e11d-78db-4afe-8274-928c2739a099",
   "metadata": {},
   "outputs": [],
   "source": [
    "lib = ['x','x^2','x^3','x^4','exp','log','sqrt','tanh','sin','abs']\n",
    "model2.auto_symbolic(lib=lib)"
   ]
  },
  {
   "cell_type": "code",
   "execution_count": null,
   "id": "ad901a15-2ba0-47a7-9f26-0fc17465f3b3",
   "metadata": {},
   "outputs": [],
   "source": [
    "model2.unfix_symbolic_all()"
   ]
  },
  {
   "cell_type": "code",
   "execution_count": null,
   "id": "85ac6777-5f7c-42ac-8ba0-aaaca63aca02",
   "metadata": {},
   "outputs": [],
   "source": [
    "model2.train(dataset, opt=\"LBFGS\", steps=20, lamb=0.01, lamb_entropy=10.);\n",
    "model2 = model2.prune()\n",
    "model2(dataset['train_input'])\n",
    "model2.plot()"
   ]
  },
  {
   "cell_type": "code",
   "execution_count": null,
   "id": "dbb990ba-6128-4368-99b5-b95102e216fc",
   "metadata": {},
   "outputs": [],
   "source": [
    "model2.train(dataset, opt=\"LBFGS\", steps=20, lamb=0.01, lamb_entropy=10.);\n",
    "model2 = model2.prune()\n",
    "model2(dataset['train_input'])\n",
    "model2.plot()"
   ]
  },
  {
   "cell_type": "code",
   "execution_count": null,
   "id": "be4e0990-395d-47f5-958f-c751138129f7",
   "metadata": {},
   "outputs": [],
   "source": [
    "model2.auto_symbolic()\n",
    "model2.plot()"
   ]
  },
  {
   "cell_type": "code",
   "execution_count": null,
   "id": "69059c01-6710-4072-a04a-4b381225cf57",
   "metadata": {},
   "outputs": [],
   "source": [
    "model2.train(dataset, opt=\"LBFGS\", steps=20, lamb=0.01, lamb_entropy=10.);\n",
    "model2 = model2.prune()\n",
    "model2(dataset['train_input'])\n",
    "model2.plot()"
   ]
  },
  {
   "cell_type": "code",
   "execution_count": null,
   "id": "952960ef-962e-417d-9de7-9e2acd621ff3",
   "metadata": {},
   "outputs": [],
   "source": [
    "model2.symbolic_formula()[0][0]"
   ]
  },
  {
   "cell_type": "code",
   "execution_count": null,
   "id": "96c81e6d-6fcb-4677-948e-15a2f383c189",
   "metadata": {},
   "outputs": [],
   "source": [
    "model2.unfix_symbolic_all()"
   ]
  },
  {
   "cell_type": "code",
   "execution_count": null,
   "id": "22bb03f8-bba6-40e7-bd48-6eccc75578f5",
   "metadata": {},
   "outputs": [],
   "source": [
    "model2.train(dataset, opt=\"LBFGS\", steps=20, lamb=0.01, lamb_entropy=10.);\n",
    "model2 = model2.prune()\n",
    "model2(dataset['train_input'])\n",
    "model2.plot()"
   ]
  },
  {
   "cell_type": "code",
   "execution_count": null,
   "id": "486793e6-f3b2-419e-bb05-10829bb7a63c",
   "metadata": {},
   "outputs": [],
   "source": [
    "lib = ['x','x^2','x^3','x^4','exp','log','sqrt','tanh','sin','abs']\n",
    "model2.auto_symbolic(lib=lib)"
   ]
  },
  {
   "cell_type": "code",
   "execution_count": null,
   "id": "05e5170d-2402-4c7f-9022-f7012b7040cb",
   "metadata": {},
   "outputs": [],
   "source": [
    "model2.train(dataset, opt=\"LBFGS\", steps=20, lamb=0.01, lamb_entropy=10.)\n",
    "model2 = model2.prune()\n",
    "model2(dataset['train_input'])\n",
    "model2.plot()"
   ]
  },
  {
   "cell_type": "code",
   "execution_count": null,
   "id": "b055f66e-4453-4084-9993-583ef7af012b",
   "metadata": {},
   "outputs": [],
   "source": [
    "model2.plot()"
   ]
  },
  {
   "cell_type": "code",
   "execution_count": null,
   "id": "b6823162-aa5c-4c01-b883-746a65836a1c",
   "metadata": {},
   "outputs": [],
   "source": [
    "model3 = KAN(width=[2,5,1], grid=5, k=3, seed=0)"
   ]
  },
  {
   "cell_type": "code",
   "execution_count": null,
   "id": "53fda6e4-2259-4fee-b0bd-709c891af694",
   "metadata": {},
   "outputs": [],
   "source": [
    "# train the model\n",
    "model.train(dataset, opt=\"LBFGS\", steps=20, lamb=0.01, lamb_entropy=10.);"
   ]
  },
  {
   "cell_type": "code",
   "execution_count": null,
   "id": "4ba30f48-592d-4797-976d-c774c578e428",
   "metadata": {},
   "outputs": [],
   "source": [
    "model.plot()"
   ]
  },
  {
   "cell_type": "code",
   "execution_count": null,
   "id": "107c6eb5-34b2-46ad-ae75-c3bba10d2d98",
   "metadata": {},
   "outputs": [],
   "source": [
    "model3.train(dataset, opt=\"LBFGS\", steps=20, lamb=0.01, lamb_entropy=10.)\n",
    "model3 = model3.prune()\n",
    "model3(dataset['train_input'])\n",
    "model3.plot()"
   ]
  },
  {
   "cell_type": "code",
   "execution_count": null,
   "id": "50248823-2790-4a9d-b487-fe975a6c2265",
   "metadata": {},
   "outputs": [],
   "source": [
    "model3.train(dataset, opt=\"LBFGS\", steps=20, lamb=0.01, lamb_entropy=10.)\n",
    "model3 = model3.prune()\n",
    "model3(dataset['train_input'])\n",
    "model3.plot()"
   ]
  },
  {
   "cell_type": "code",
   "execution_count": null,
   "id": "9c8776fd-d4b3-4e61-81ea-b8b7c1b4d0f3",
   "metadata": {},
   "outputs": [],
   "source": [
    "model3.train(dataset, opt=\"LBFGS\", steps=20, lamb=0.01, lamb_entropy=10.)\n",
    "model3 = model3.prune()\n",
    "model3(dataset['train_input'])\n",
    "model3.plot()"
   ]
  },
  {
   "cell_type": "code",
   "execution_count": null,
   "id": "3cd7df9d-4850-4077-939a-166af649f1d8",
   "metadata": {},
   "outputs": [],
   "source": [
    "model3.train(dataset, opt=\"LBFGS\", steps=20, lamb=0.01, lamb_entropy=10.)\n",
    "model3 = model3.prune()\n",
    "model3(dataset['train_input'])\n",
    "model3.plot()"
   ]
  },
  {
   "cell_type": "code",
   "execution_count": null,
   "id": "28957688-db2c-41d6-a343-788c4fd31ec7",
   "metadata": {},
   "outputs": [],
   "source": [
    "model3.auto_symbolic(lib=lib)\n",
    "model3.unfix_symbolic_all()"
   ]
  },
  {
   "cell_type": "code",
   "execution_count": null,
   "id": "b50cdb73-a99e-49fe-8203-ed2365e9b9c6",
   "metadata": {},
   "outputs": [],
   "source": [
    "model3.auto_symbolic()\n",
    "model3.unfix_symbolic_all()"
   ]
  },
  {
   "cell_type": "code",
   "execution_count": null,
   "id": "1a9bb6b6-e5ca-40af-bbd0-429d20264573",
   "metadata": {},
   "outputs": [],
   "source": [
    "model3.suggest_symbolic(0,1,0)"
   ]
  },
  {
   "cell_type": "code",
   "execution_count": null,
   "id": "d1fc7cc2-24d9-41f3-97be-bb5afbb0788a",
   "metadata": {},
   "outputs": [],
   "source": [
    "model3.suggest_symbolic(1,0,0)"
   ]
  },
  {
   "cell_type": "code",
   "execution_count": null,
   "id": "70acb6d1-1c71-4d71-a1f5-803febb53f1a",
   "metadata": {},
   "outputs": [],
   "source": [
    "model3.suggest_symbolic(1,0,0,lib=lib)"
   ]
  },
  {
   "cell_type": "code",
   "execution_count": null,
   "id": "0a101a17-7801-4f33-b2f0-1962b0836d50",
   "metadata": {},
   "outputs": [],
   "source": [
    "model3.fix_symbolic(0,0,0,'sin')"
   ]
  },
  {
   "cell_type": "code",
   "execution_count": null,
   "id": "841a958c-1732-4a12-8d67-9b74831a6872",
   "metadata": {},
   "outputs": [],
   "source": [
    "model3.train(dataset, opt=\"LBFGS\", steps=20, lamb=0.01, lamb_entropy=10.)\n",
    "model3(dataset['train_input'])\n",
    "model3.plot()"
   ]
  },
  {
   "cell_type": "code",
   "execution_count": null,
   "id": "0b76eba8-d285-423f-b451-f6bc74c071c5",
   "metadata": {},
   "outputs": [],
   "source": [
    "model3.plot(beta=100)"
   ]
  },
  {
   "cell_type": "code",
   "execution_count": null,
   "id": "f460d100-032e-4089-8172-9a9d666c10d8",
   "metadata": {},
   "outputs": [],
   "source": [
    "model3.auto_symbolic()\n",
    "model3.unfix_symbolic_all()"
   ]
  },
  {
   "cell_type": "code",
   "execution_count": null,
   "id": "0f1bd0eb-d236-4b56-a4ed-9822264c53dc",
   "metadata": {},
   "outputs": [],
   "source": [
    "model3.auto_symbolic(lib=lib)\n",
    "model3.unfix_symbolic_all()"
   ]
  },
  {
   "cell_type": "code",
   "execution_count": null,
   "id": "82f54cd2-4d06-4974-bb83-fa566ce50589",
   "metadata": {},
   "outputs": [],
   "source": [
    "model3.auto_symbolic()\n",
    "model3.unfix_symbolic_all()"
   ]
  },
  {
   "cell_type": "code",
   "execution_count": null,
   "id": "c2951410-105c-40f8-939f-b24d10dc6107",
   "metadata": {},
   "outputs": [],
   "source": [
    "model3.fix_symbolic(0,0,0,\"sin\")\n",
    "model3.fix_symbolic(0,1,0,\"x^2\")"
   ]
  },
  {
   "cell_type": "code",
   "execution_count": null,
   "id": "98a30e63-81bb-4e46-8619-cd699491da19",
   "metadata": {},
   "outputs": [],
   "source": [
    "model3.train(dataset, opt=\"LBFGS\", steps=20, lamb=0.01, lamb_entropy=10.)\n",
    "model3(dataset['train_input'])\n",
    "model3.plot()"
   ]
  },
  {
   "cell_type": "code",
   "execution_count": null,
   "id": "fdd348fa-5364-4b55-acaa-d682ba3880a5",
   "metadata": {},
   "outputs": [],
   "source": [
    "model3.auto_symbolic()\n",
    "model3.unfix_symbolic(1,0,0)"
   ]
  },
  {
   "cell_type": "code",
   "execution_count": null,
   "id": "43feaf99-90fd-4d13-b993-e6abf87f251b",
   "metadata": {},
   "outputs": [],
   "source": [
    "model3.auto_symbolic(lib=lib)\n",
    "model3.unfix_symbolic(1,0,0)"
   ]
  },
  {
   "cell_type": "code",
   "execution_count": null,
   "id": "5030c5ef-1a91-4393-86c2-6e24bfaf2b6a",
   "metadata": {},
   "outputs": [],
   "source": [
    "model3.suggest_symbolic(1,0,0)"
   ]
  },
  {
   "cell_type": "code",
   "execution_count": null,
   "id": "6321400e-a2ca-4012-95e4-f633d6c840a5",
   "metadata": {},
   "outputs": [],
   "source": [
    "model3.suggest_symbolic(1,0,0,lib=lib)"
   ]
  },
  {
   "cell_type": "code",
   "execution_count": null,
   "id": "650cd0b8-1812-486d-8f2a-70a576210286",
   "metadata": {},
   "outputs": [],
   "source": [
    "model3.train(dataset, opt=\"LBFGS\", steps=20, lamb=0.01, lamb_entropy=10.)\n",
    "model3(dataset['train_input'])\n",
    "model3.plot()"
   ]
  },
  {
   "cell_type": "code",
   "execution_count": null,
   "id": "cd2f9d97-c09a-4f1d-a5f2-baeb8cbc4bb0",
   "metadata": {},
   "outputs": [],
   "source": [
    "model3.auto_symbolic()\n",
    "model3.symbolic_formula()"
   ]
  },
  {
   "cell_type": "code",
   "execution_count": null,
   "id": "47f7ffe7-0917-4b7a-8655-f263c40add72",
   "metadata": {},
   "outputs": [],
   "source": [
    "model3.symbolic_formula()[0]"
   ]
  },
  {
   "cell_type": "code",
   "execution_count": null,
   "id": "47e4c731-4dd0-4f9b-aaea-f5619b09dfa6",
   "metadata": {},
   "outputs": [],
   "source": [
    "model3.symbolic_formula()[0][0]"
   ]
  },
  {
   "cell_type": "code",
   "execution_count": null,
   "id": "d149ed5e-29db-4507-91fd-a8b0cf856a80",
   "metadata": {},
   "outputs": [],
   "source": [
    "model3.fix_symbolic(1,0,0,'exp')"
   ]
  },
  {
   "cell_type": "code",
   "execution_count": null,
   "id": "f13e2520-2efa-48e1-8e11-3ab4bdf39c5a",
   "metadata": {},
   "outputs": [],
   "source": [
    "model3.train(dataset, opt=\"LBFGS\", steps=20, lamb=0.01, lamb_entropy=10.)\n",
    "model3(dataset['train_input'])\n",
    "model3.plot()"
   ]
  },
  {
   "cell_type": "code",
   "execution_count": null,
   "id": "240761a1-c9f1-4e5f-893b-3a42248e32d3",
   "metadata": {},
   "outputs": [],
   "source": [
    "model3.train(dataset, opt=\"LBFGS\", steps=20, lamb=0.01, lamb_entropy=10.)"
   ]
  },
  {
   "cell_type": "code",
   "execution_count": null,
   "id": "f8372bc3-6003-46f5-95f2-3e1d7a2bf544",
   "metadata": {},
   "outputs": [],
   "source": [
    "model3.unfix_symbolic(1,0,0)"
   ]
  },
  {
   "cell_type": "code",
   "execution_count": null,
   "id": "4ddc97ba-1b5a-4c15-ae64-23141bdcff80",
   "metadata": {},
   "outputs": [],
   "source": [
    "model3.train(dataset, opt=\"LBFGS\", steps=20, lamb=0.01, lamb_entropy=10.)"
   ]
  },
  {
   "cell_type": "code",
   "execution_count": null,
   "id": "cda0347a-1016-48eb-9396-f4ce80f5e920",
   "metadata": {},
   "outputs": [],
   "source": []
  }
 ],
 "metadata": {
  "kernelspec": {
   "display_name": "Python (kanenv2)",
   "language": "python",
   "name": "kanenv2"
  },
  "language_info": {
   "codemirror_mode": {
    "name": "ipython",
    "version": 3
   },
   "file_extension": ".py",
   "mimetype": "text/x-python",
   "name": "python",
   "nbconvert_exporter": "python",
   "pygments_lexer": "ipython3",
   "version": "3.8.5"
  }
 },
 "nbformat": 4,
 "nbformat_minor": 5
}
